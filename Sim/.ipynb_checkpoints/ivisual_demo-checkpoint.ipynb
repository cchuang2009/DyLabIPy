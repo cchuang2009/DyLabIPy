{
 "metadata": {
  "name": "",
  "signature": "sha256:390ab8c3317a6968b8dbed7871df6b45ee67765543732321e9b57976f0956eeb"
 },
 "nbformat": 3,
 "nbformat_minor": 0,
 "worksheets": [
  {
   "cells": [
    {
     "cell_type": "markdown",
     "metadata": {
      "slideshow": {
       "slide_type": "slide"
      }
     },
     "source": [
      "#Today's Greatest People:\n",
      "<p>\n",
      "<div align=\"center\">\n",
      "<img src=\"data/img/Galileo.png\"></p>\n",
      "</div>\n",
      "<p>\n",
      "The Italian  scientist and philosopher, Galileo Galilei, had evev studies the magtitude of gravity via pendulum experiment.\n",
      "\n",
      "<p><div align=\"center\">\n",
      "<img src=\"data/img/Lagrange.png\"></p>\n",
      "</div>\n",
      "Lagrange: The famous French Mathematician and known as one of famous three **\"L's\"** of French."
     ]
    },
    {
     "cell_type": "code",
     "collapsed": false,
     "input": [
      "from IPython.core.display import HTML\n",
      "def css_styling():\n",
      "    styles = open(\"custom.css\", \"r\").read()\n",
      "    return HTML(styles)\n",
      "css_styling()"
     ],
     "language": "python",
     "metadata": {},
     "outputs": [
      {
       "html": [
        "\n",
        " <style type=\"text/css\">\n",
        "  @-webkit-keyframes spinner {\n",
        "      from { -webkit-transform: rotateY(0deg); }\n",
        "      to   { -webkit-transform: rotateY(-360deg); }\n",
        "  }\n",
        "  @keyframes spinner {\n",
        "      from {\n",
        "            -moz-transform: rotateY(0deg);\n",
        "            -ms-transform: rotateY(0deg);\n",
        "            transform: rotateY(0deg);\n",
        "     }\n",
        "     to {\n",
        "         -moz-transform: rotateY(-360deg);\n",
        "         -ms-transform: rotateY(-360deg);\n",
        "         transform: rotateY(-360deg);\n",
        "     }\n",
        "  }\n",
        "  .stage{\n",
        "       margin:1em auto;\n",
        "      -webkit-perspective:1200px;\n",
        "      -moz-perspective:1200px;\n",
        "      -ms-perspective:1200px;perspective:1200px\n",
        "  }\n",
        "  .spinner{\n",
        "      -webkit-animation-name:spinner;\n",
        "      -webkit-animation-timing-function:linear;\n",
        "      -webkit-animation-iteration-count:infinite;\n",
        "      -webkit-animation-duration:6s;\n",
        "      -webkit-transform-style:preserve-3d;\n",
        "      animation-name:spinner;\n",
        "      animation-timing-function:linear;\n",
        "      animation-iteration-count:infinite;\n",
        "      animation-duration:6s;\n",
        "      transform-style:preserve-3d\n",
        "  }\n",
        "  .spinner:hover{\n",
        "     -webkit-animation-play-state:paused;\n",
        "     animation-play-state:paused\n",
        "  }.spinner img,.spinner5 img{\n",
        "     position:absolute;\n",
        "     border:1px solid #ccc;\n",
        "     background:rgba(255,255,255,.8);\n",
        "     box-shadow:inset 0 0 20px rgba(0,0,0,.2)\n",
        "  }\n",
        "  </style>\n",
        "  <style type=\"text/css\">\n",
        "    @-webkit-keyframes spinner5 {\n",
        "       from,15% { -webkit-transform: rotateY(0);       }\n",
        "       20%,35%  { -webkit-transform: rotateY(-72deg);  }\n",
        "       40%,55%  { -webkit-transform: rotateY(-144deg); }\n",
        "       60%,75%  { -webkit-transform: rotateY(-216deg); }\n",
        "       80%,95%  { -webkit-transform: rotateY(-288deg); }\n",
        "       to       { -webkit-transform: rotateY(-360deg); }\n",
        "    }\n",
        "    @keyframes spinner5 {\n",
        "       from,15% {\n",
        "          -moz-transform: rotateY(0);\n",
        "          -ms-transform: rotateY(0);\n",
        "          transform: rotateY(0);\n",
        "       }\n",
        "       20%,35%  {\n",
        "         -moz-transform: rotateY(-72deg);\n",
        "         -ms-transform: rotateY(-72deg);\n",
        "         transform: rotateY(-72deg);\n",
        "       }\n",
        "       40%,55%  {\n",
        "         -moz-transform: rotateY(-144deg);\n",
        "         -ms-transform: rotateY(-144deg);\n",
        "         transform: rotateY(-144deg);\n",
        "       }\n",
        "       60%,75%  {\n",
        "          -moz-transform: rotateY(-216deg);\n",
        "          -ms-transform: rotateY(-216deg);\n",
        "          transform: rotateY(-216deg);\n",
        "       }\n",
        "       80%,95%  {\n",
        "          -moz-transform: rotateY(-288deg);\n",
        "          -ms-transform: rotateY(-288deg);\n",
        "          transform: rotateY(-288deg);\n",
        "       }\n",
        "       to {\n",
        "         -moz-transform: rotateY(-360deg);\n",
        "         -ms-transform: rotateY(-360deg);\n",
        "          transform: rotateY(-360deg);\n",
        "       }\n",
        "   }\n",
        "   .spinner5{\n",
        "       -webkit-animation-name:spinner5;\n",
        "       -webkit-animation-timing-function:ease-out;\n",
        "       -webkit-animation-iteration-count:infinite;\n",
        "       -webkit-animation-duration:20s;\n",
        "       animation-name:spinner5;\n",
        "       animation-timing-function:ease-out;\n",
        "       animation-iteration-count:infinite;\n",
        "       animation-duration:20s;\n",
        "       -webkit-transform-style:preserve-3d;\n",
        "       -moz-transform-style:preserve-3d;\n",
        "       -ms-transform-style:preserve-3d;\n",
        "       transform-style:preserve-3d}\n",
        "  </style>\n"
       ],
       "metadata": {},
       "output_type": "pyout",
       "prompt_number": 1,
       "text": [
        "<IPython.core.display.HTML at 0x104458150>"
       ]
      }
     ],
     "prompt_number": 1
    },
    {
     "cell_type": "code",
     "collapsed": false,
     "input": [
      "from __future__ import division, print_function\n",
      "from IPython.core import page\n",
      "page.page = print"
     ],
     "language": "python",
     "metadata": {},
     "outputs": [],
     "prompt_number": 2
    },
    {
     "cell_type": "markdown",
     "metadata": {
      "slideshow": {
       "slide_type": "slide"
      }
     },
     "source": [
      "#Pendulum\n",
      "A double pendulum is a pendulum with another pendulum attached to its end, and is a simple dynamics system that exhibits rich chaotic behavior,i.e. being sensible strongly to initial conditions:\n",
      "<p>\n",
      "<div align=\"center\">\n",
      "<img src=\"data/img/Double-Pendulum.png\"></p>\n",
      "</div>"
     ]
    },
    {
     "cell_type": "markdown",
     "metadata": {
      "slideshow": {
       "slide_type": "subslide"
      }
     },
     "source": [
      "For simplicity, assume the lengths are equal, e.g. $L_1=L_2=l$, and the weights of the balls attached at the ends of rods are also equal, $m_1=m_2=m$. Also let \n",
      "$(x_1,y_1)$ and $(x_2,y_2)$ are the coordinates of the first and second ball. Then the dynamics system are as follows:<p>\n",
      "\\begin{eqnarray}\n",
      "(x_1,y_1)&=&(l\\sin(\\theta_1),-l \\cos(\\theta_1))\\\\\n",
      "(x_2,y_2)&=&(l\\sin(\\theta_1) + l \\sin(\\theta_2),-l\\cos(\\theta_1) - l\\cos(\\theta_2))\\\\\n",
      "\\frac{d \\theta_1}{d t}&=&\\dot\\theta_1\\\\\n",
      "\\frac{d \\theta_2}{d t}&=&\\dot\\theta_2\\\\\n",
      "\\frac{d \\dot\\theta_1}{d t}&=&\\ddot\\theta_1\\\\\n",
      "\\frac{d \\dot\\theta_2}{d t}&=&\\ddot\\theta_2\\\\\n",
      "\\vartriangle\\theta&=&\\theta_2-\\theta_2 \\\\\n",
      "\\ddot\\theta_1&=&\\frac { m l (\\dot\\theta_1^2)*\\sin(\\vartriangle\\theta)*\\cos(\\vartriangle\\theta) + m g \\sin(\\theta_2)*\\cos(\\vartriangle\\theta) + m l (\\dot\\theta_2^2)*\\sin(\\vartriangle\\theta) -2 m g \\sin(\\theta_1)} \n",
      "                      { 2 m l - m l (\\cos\\vartriangle\\theta)^2 }\\\\\n",
      "\\ddot\\theta_2&=&\\frac { m l (\\dot\\theta_2^2)*\\sin(\\vartriangle\\theta)*\\cos(\\vartriangle\\theta) +2 m g \\sin(\\theta_1)*\\cos(\\vartriangle\\theta) + m l (\\dot\\theta_1^2)*\\sin(\\vartriangle\\theta) - m g \\sin(\\theta_2)} \n",
      "                      { 2 m l - m l (\\cos\\vartriangle\\theta)^2 }   \n",
      "\\end{eqnarray}\n",
      "By discretization the differential operation, we could make animation of the motion of double pendulum via VPython: "
     ]
    },
    {
     "cell_type": "code",
     "collapsed": false,
     "input": [
      "#from pylab import *\n",
      "from ivisual import *\n",
      "from numpy import pi,sin,cos\n",
      "\n",
      "from IPython.html.widgets import interact, interactive, fixed\n",
      "from IPython.html import widgets\n",
      "from IPython.display import clear_output, display, HTML, display_html, Javascript\n",
      "from __future__ import division"
     ],
     "language": "python",
     "metadata": {},
     "outputs": [
      {
       "html": [
        "<div id=\"scene\"><div id=\"glowscript\" class=\"glowscript\"></div></div>"
       ],
       "metadata": {},
       "output_type": "display_data",
       "text": [
        "<IPython.core.display.HTML at 0x104989550>"
       ]
      },
      {
       "javascript": [
        "require.undef(\"nbextensions/glow.1.0.min\");"
       ],
       "metadata": {},
       "output_type": "display_data",
       "text": [
        "<IPython.core.display.Javascript at 0x104989590>"
       ]
      },
      {
       "javascript": [
        "require.undef(\"nbextensions/glowcomm\");"
       ],
       "metadata": {},
       "output_type": "display_data",
       "text": [
        "<IPython.core.display.Javascript at 0x104e1d9d0>"
       ]
      },
      {
       "javascript": [
        "require([\"nbextensions/glowcomm\"], function(){console.log(\"glowcomm loaded\");})"
       ],
       "metadata": {},
       "output_type": "display_data",
       "text": [
        "<IPython.core.display.Javascript at 0x104e1db10>"
       ]
      }
     ],
     "prompt_number": 4
    },
    {
     "cell_type": "code",
     "collapsed": false,
     "input": [
      "scene = idisplay('Inverted Pendulum')\n",
      "\n",
      "scene.autoscale = 0  # disable function of auto-zooming\n",
      "scene.title = 'Double pendulum'\n",
      "scene.range = (2.05,2.05,2.05)\n",
      "\n",
      "scene.background=color.white\n",
      "\n",
      "theta1 = pi/3.0   # angle of 1st pendulum to vertical (initial value)\n",
      "theta2 = pi/12.0  # angle of 2nd pendulum to vertical (initial value)\n",
      "\n",
      "theta1_dot = 0.0  # rate of change of theta1 - initial value\n",
      "theta2_dot = 0.1\n",
      "\n",
      "g = 9.8     # acceleration of gravity\n",
      "l = 1.0     # pendulum arm length \n",
      "m = 0.3     # mass of pendulum ball\n",
      "\n",
      "ball1 = sphere(pos=vector(l*sin(theta1),-l*cos(theta1),0), radius=0.12, color=color.blue)\n",
      "ball2 = sphere(pos=vector(l*sin(theta1) + l*sin(theta2),-l*cos(theta1) - l*cos(theta2),0), radius=0.12, color=color.blue ,trail_type=\"points\", interval=10, retain=50)\n",
      "arm1 = cylinder(pos=(0,0,0), axis=(l*sin(theta1),-l*cos(theta1),0), radius=.03, color=color.cyan)\n",
      "arm2 = cylinder(pos=(0,0,0), axis=(l*sin(theta1) + l*sin(theta2),-l*cos(theta1) - l*cos(theta2),0), radius=.03, color=color.cyan)\n",
      "\n",
      "#nub = sphere(pos=vector(0,0,0), radius=0.05, color=color.white, make_trail=True, interval=10, retain=50)\t\t# little white nub\n",
      "nub = sphere(pos=vector(0,0,0), radius=0.05, color=color.white)\t\t# little white nub\n",
      "\n",
      "display(scene)\n",
      "\n",
      "time=0.0\n",
      "dt=0.0001\n",
      "while True:\n",
      "    rate(5000)# Set number of times loop is repeated per second\n",
      "    dta= theta2 - theta1# dta (short for 'delta' - the difference between the two angles)\n",
      "    theta1_dot_dot = ( m*l*(theta1_dot**2.0)*sin(dta)*cos(dta) + m*g*sin(theta2)*cos(dta) + \\\n",
      "                       m*l*(theta2_dot**2.0)*sin(dta) -2.0*m*g*sin(theta1) ) /  \\\n",
      "                       ( 2.0*m*l - m*l*(cos(dta))**2.0 )# equation of motion\n",
      "    theta2_dot_dot = ( -m*l*(theta2_dot**2.0)*sin(dta)*cos(dta) + 2.0*m*(g*sin(theta1)*cos(dta) \\\n",
      "                     - l*(theta1_dot**2.0)*sin(dta) - g*sin(theta2)) ) /  \\\n",
      "                     ( 2.0*m*l - m*l*(cos(dta))**2.0 )# the other equation of motion\n",
      "    theta1_dot = theta1_dot + theta1_dot_dot*dt# makes sense if you think about it\n",
      "    theta2_dot = theta2_dot + theta2_dot_dot*dt\n",
      "    theta1 = theta1 + theta1_dot*dt\n",
      "    theta2 = theta2 + theta2_dot*dt\n",
      "    \"\"\"\n",
      "    ball1.pos.x = l*sin(theta1)\n",
      "    ball1.pos.y = -l*cos(theta1)\n",
      "    \"\"\"\n",
      "    ball1.pos=( l*sin(theta1),-l*cos(theta1),0)\n",
      "    arm1.axis = (ball1.pos.x, ball1.pos.y, 0)\n",
      "    \"\"\"\n",
      "    ball2.pos.x = l*sin(theta1) + l*sin(theta2)\n",
      "    ball2.pos.y = -l*cos(theta1) - l*cos(theta2)\n",
      "    \"\"\"\n",
      "    ball2.pos=(l*sin(theta1) + l*sin(theta2) , -l*cos(theta1) - l*cos(theta2), 0)\n",
      "    arm2.pos = (l*sin(theta1), -l*cos(theta1), 0)\n",
      "    arm2.axis = (ball2.pos.x - ball1.pos.x, ball2.pos.y - ball1.pos.y, 0)\n",
      "    #trace.append(pos=ball2.pos)\n",
      "\n",
      "    time += dt"
     ],
     "language": "python",
     "metadata": {},
     "outputs": [
      {
       "html": [
        "<div id=\"scene1\"><div id=\"glowscript\" class=\"glowscript\"></div></div>"
       ],
       "metadata": {},
       "output_type": "display_data",
       "text": [
        "<IPython.core.display.HTML at 0x105134890>"
       ]
      },
      {
       "javascript": [
        "window.__context = { glowscript_container: $(\"#glowscript\").removeAttr(\"id\")}"
       ],
       "metadata": {},
       "output_type": "display_data",
       "text": [
        "<IPython.core.display.Javascript at 0x104902e10>"
       ]
      },
      {
       "html": [
        "<div id=\"glowscript2\" ><div id=\"glowscript\" class=\"glowscript\"></div></div>"
       ],
       "metadata": {},
       "output_type": "display_data"
      }
     ]
    },
    {
     "cell_type": "code",
     "collapsed": false,
     "input": [
      "\n",
      "scene = idisplay('Inverted Pendulum')\n",
      "\"\"\"\n",
      "scene.autoscale = 0  # disable function of auto-zooming\n",
      "scene.title = 'Double pendulum'\n",
      "scene.range = (2.05,2.05,2.05)\n",
      "\"\"\"\n",
      "scene.background=color.white\n",
      "\n",
      "theta1 = pi/3.0   # angle of 1st pendulum to vertical (initial value)\n",
      "theta2 = pi/12.0  # angle of 2nd pendulum to vertical (initial value)\n",
      "\n",
      "theta1_dot = 0.0  # rate of change of theta1 - initial value\n",
      "theta2_dot = 0.1\n",
      "\n",
      "g = 9.8     # acceleration of gravity\n",
      "l = 1.0     # pendulum arm length \n",
      "m = 0.3     # mass of pendulum ball\n",
      "\n",
      "time = 0.0  # initial value of time\n",
      "#dt = 0.0001 # time step\n",
      "\n",
      "# Create balls\n",
      "ball1 = sphere(pos=vector(l*sin(theta1),-l*cos(theta1),0), radius=0.12, color=color.blue)\n",
      "ball2 = sphere(pos=vector(l*sin(theta1) + l*sin(theta2),-l*cos(theta1) - l*cos(theta2),0), radius=0.12, color=color.blue)\n",
      "\n",
      "arm1 = cylinder(pos=(0,0,0), axis=(l*sin(theta1),-l*cos(theta1),0), radius=.03, color=color.cyan)\n",
      "arm2 = cylinder(pos=(0,0,0), axis=(l*sin(theta1) + l*sin(theta2),-l*cos(theta1) - l*cos(theta2),0), radius=.03, color=color.cyan)\n",
      "\n",
      "nub = sphere(pos=vector(0,0,0), radius=0.05, color=color.white)\t\t# little white nub\n",
      "\n",
      "\n",
      "display(scene)\n",
      "\n",
      "\n",
      "dt=0.0001\n",
      "while (True):\n",
      "    rate(5000)# Set number of times loop is repeated per second\n",
      "    dta= theta2 - theta1# dta (short for 'delta' - the difference between the two angles)\n",
      "    theta1_dot_dot = ( m*l*(theta1_dot**2.0)*sin(dta)*cos(dta) + m*g*sin(theta2)*cos(dta) + m*l*(theta2_dot**2.0)*sin(dta) -2.0*m*g*sin(theta1) ) /  \\\n",
      "                      ( 2.0*m*l - m*l*(cos(dta))**2.0 )# equation of motion\n",
      "    theta2_dot_dot = ( -m*l*(theta2_dot**2.0)*sin(dta)*cos(dta) + 2.0*m*(g*sin(theta1)*cos(dta) - l*(theta1_dot**2.0)*sin(dta) - g*sin(theta2)) ) /  \\\n",
      "                     ( 2.0*m*l - m*l*(cos(dta))**2.0 )# the other equation of motion\n",
      "    theta1_dot = theta1_dot + theta1_dot_dot*dt# makes sense if you think about it\n",
      "    theta2_dot = theta2_dot + theta2_dot_dot*dt\n",
      "    theta1 = theta1 + theta1_dot*dt\n",
      "    theta2 = theta2 + theta2_dot*dt\n",
      "\n",
      "    ball1.pos.x = l*sin(theta1)\n",
      "    ball1.pos.y = -l*cos(theta1)\n",
      "    #arm1.axis = (ball1.pos.x, ball1.pos.y, 0)\n",
      "\n",
      "    ball2.pos.x = l*sin(theta1) + l*sin(theta2)\n",
      "    ball2.pos.y = -l*cos(theta1) - l*cos(theta2)\n",
      "    #arm2.pos = (l*sin(theta1), -l*cos(theta1), 0)\n",
      "    #arm2.axis = (ball2.pos.x - ball1.pos.x, ball2.pos.y - ball1.pos.y, 0)\n",
      "\n",
      "    #trace.append(pos=ball2.pos)\n",
      "\n",
      "    time += dt"
     ],
     "language": "python",
     "metadata": {
      "slideshow": {
       "slide_type": "subslide"
      }
     },
     "outputs": [
      {
       "html": [
        "<div id=\"scene1\"><div id=\"glowscript\" class=\"glowscript\"></div></div>"
       ],
       "metadata": {},
       "output_type": "display_data",
       "text": [
        "<IPython.core.display.HTML at 0x107732750>"
       ]
      },
      {
       "javascript": [
        "window.__context = { glowscript_container: $(\"#glowscript\").removeAttr(\"id\")}"
       ],
       "metadata": {},
       "output_type": "display_data",
       "text": [
        "<IPython.core.display.Javascript at 0x1033b1b50>"
       ]
      },
      {
       "html": [
        "<div id=\"glowscript2\" ><div id=\"glowscript\" class=\"glowscript\"></div></div>"
       ],
       "metadata": {},
       "output_type": "display_data"
      }
     ]
    },
    {
     "cell_type": "code",
     "collapsed": false,
     "input": [
      "import io\n",
      "import base64\n",
      "from IPython.display import HTML\n",
      "\n",
      "video = io.open('data/movies/pendulum.webm', 'r+b').read()\n",
      "encoded = base64.b64encode(video)\n",
      "HTML(data='''<div align=\"center\"><video alt=\"test\" controls>\n",
      "                <source src=\"data:video/webm;base64,{0}\" type=\"video/webm\" />\n",
      "             </video></div>'''.format(encoded.decode('ascii')))"
     ],
     "language": "python",
     "metadata": {
      "slideshow": {
       "slide_type": "subslide"
      }
     },
     "outputs": []
    },
    {
     "cell_type": "markdown",
     "metadata": {
      "slideshow": {
       "slide_type": "subslide"
      }
     },
     "source": [
      "<div align=\"center\">\n",
      "<video id=\"movie\" preload controls loop>\n",
      "  <source src=\"/files/data/movies/pendulum.webm\" type=\"video/webm\" />\n",
      "</video>\n",
      "</div>"
     ]
    },
    {
     "cell_type": "markdown",
     "metadata": {
      "slideshow": {
       "slide_type": "subslide"
      }
     },
     "source": [
      "##Questions:\n",
      "The double pendulum undergoes chaotic motion; in other words, the tracjectory of ball shows a sensitive dependence on initial conditions.\n",
      "\n",
      "<ol>\n",
      "<li> Guess what the difference of results is between with small and big angles starting initially.\n",
      "<li> Also make the trajectory of movement of first ball and observe it with it of other.\n",
      "</ol>"
     ]
    },
    {
     "cell_type": "markdown",
     "metadata": {
      "slideshow": {
       "slide_type": "slide"
      }
     },
     "source": [
      "#Inverted Pendulum\n",
      "\n",
      "An inverted pendulum is a pendulum which has its center of mass above its pivot point as follows:\n",
      "<div align=\"center\">\n",
      "<img src=\"data/img/InvertedPendulum.png\"></p>\n",
      "</div>    \n",
      "<p>"
     ]
    },
    {
     "cell_type": "markdown",
     "metadata": {
      "slideshow": {
       "slide_type": "subslide"
      }
     },
     "source": [
      "##Pendulum with oscillatory base\n",
      "Do you even see the show about how to keep the disk not falling down from top of a banboo rode? <p>\n",
      "<div align=\"center\">\n",
      "<img src=\"data/img/InvertPendulum2.png\"></p>\n",
      "</div>\n",
      "<p>\n",
      "The equation of motion for a pendulum connected to a massless, oscillating base is derived the same way as with the pendulum on the cart. The position of the point mass is now given by:\n",
      "$$\n",
      "    \\left( -\\ell \\sin \\theta , y + \\ell \\cos \\theta \\right)\n",
      "$$\n",
      "and the velocity is found by taking the first derivative of the position:\n",
      "$$\n",
      "    v^2=\\dot y^2-2 \\ell \\dot y \\dot \\theta \\sin \\theta + \\ell^2\\dot \\theta ^2.\n",
      "$$\n",
      "\n",
      "The Lagrangian for this system can be written as:\n",
      "\\begin{eqnarray}\n",
      "    L &=& \\text{Kinetic Energy}-\\text{Potential Energy} \\\\\n",
      "      &=&\\frac{1 }{2} m \\left ( \\dot y^2-2 \\ell \\dot y \\dot \\theta \\sin \\theta + \\ell^2\\dot \\theta ^2 \\right) - m g \\left( y + \\ell \\cos \\theta \\right ) \n",
      "\\end{eqnarray}\n",
      "and the equation of motion follows from:\n",
      "$$\n",
      "    {\\mathrm{d} \\over \\mathrm{d}t}{\\partial{L}\\over \\partial{\\dot \\theta}} - {\\partial{L}\\over \\partial \\theta} = 0 \n",
      "$$\n",
      "resulting in:\n",
      "$$\n",
      "    \\ell \\ddot \\theta - \\ddot y \\sin \\theta = g \\sin \\theta. \n",
      "$$\n",
      "\n",
      "If $y$ represents a simple harmonic motion, $y = A \\sin \\omega t$, the following differential equation is:\n",
      "$$\n",
      "    \\ddot \\theta - {g \\over \\ell} \\sin \\theta = -{A \\over \\ell} \\omega^2 \\sin \\omega t \\sin \\theta. \n",
      "$$    "
     ]
    },
    {
     "cell_type": "code",
     "collapsed": false,
     "input": [
      "#from pylab import *\n",
      "#from visual import *\n",
      "\n",
      "#scene.autoscale = 0     # disable function of auto-zooming\n",
      "scene.title = 'Inverted pendulum'\n",
      "scene.range = (2.05,2.05,2.05)\n",
      "scene.background=color.white\n",
      "\n",
      "theta = 0.1*pi           # angle of 1st pendulum to vertical (initial value)\n",
      "\n",
      "theta_dot = 0.0\t# rate of change of theta1 - initial value\n",
      "\n",
      "g = 9.8\t# acceleration of gravity\n",
      "l = 1.0\t# pendulum arm length \n",
      "m = 0.3\t# mass of pendulum ball\n",
      "omega=100.\n",
      "A=0.1\n",
      "\n",
      "time = 0.0       # initial value of time\n",
      "dt = 0.0001      # time step\n",
      "\n",
      "# Create balls\n",
      "pivot=vector(-l*sin(theta),A*sin(omega*time)+l*cos(theta),0)\n",
      "ball = sphere(color=color.blue, pos=pivot, radius=0.08, make_trail=True, interval=10, retain=50)\n",
      "\n",
      "arm = cylinder(pos=(0,0,0), axis=pivot, radius=.03, color=color.cyan)\n",
      "\n",
      "nub = sphere(pos=(0,0,0), radius=0.1, color=color.white)      # little white nub\n",
      "\n",
      "wall1=mybox = box(pos=(-0.1,0,0), axis=(-0.,0.3,0.), length=0.3, height=0.1, width=0.1,color=color.green,opacity=0.3) \n",
      "wall2=mybox = box(pos=(0.1,0,0), axis=(-0.,0.3,0.), length=0.3, height=0.1, width=0.1,color=color.green,opacity=0.3) \n",
      "\n",
      "\n",
      "while (True):\n",
      "    rate(5000);\n",
      "    yp=A*sin(omega*time);\n",
      "    \n",
      "    theta_dot_dot=g*sin(theta)/l-A*omega*omega*sin(omega*time)*sin(theta)/l;\n",
      "    theta_dot = theta_dot + theta_dot_dot*dt\n",
      "    theta = theta + theta_dot*dt\n",
      "\n",
      "    ball.pos = (-l*sin(theta),yp+l*cos(theta),0)\n",
      "    arm.pos.y=yp\n",
      "    nub.pos=(nub.x,yp,0)\n",
      "    \n",
      "    arm.axis = (ball.pos.x, ball.pos.y-yp, 0)\n",
      "    time += dt"
     ],
     "language": "python",
     "metadata": {
      "slideshow": {
       "slide_type": "subslide"
      }
     },
     "outputs": []
    },
    {
     "cell_type": "code",
     "collapsed": false,
     "input": [
      "#from pylab import *\n",
      "#from visual import *\n",
      "\n",
      "#scene.autoscale = 0     # disable function of auto-zooming\n",
      "scene.title = 'Inverted pendulum'\n",
      "scene.range = (2.05,2.05,2.05)\n",
      "scene.background=color.white\n",
      "\n",
      "theta = 0.1*pi           # angle of 1st pendulum to vertical (initial value)\n",
      "\n",
      "theta_dot = 0.0\t# rate of change of theta1 - initial value\n",
      "\n",
      "g = 9.8\t# acceleration of gravity\n",
      "l = 1.0\t# pendulum arm length \n",
      "m = 0.3\t# mass of pendulum ball\n",
      "omega=100.\n",
      "A=0.1\n",
      "\n",
      "time = 0.0       # initial value of time\n",
      "dt = 0.0001      # time step\n",
      "\n",
      "# Create balls\n",
      "pivot=vector(-l*sin(theta),A*sin(omega*time)+l*cos(theta),0)\n",
      "ball = sphere(pos=pivot, radius=0.08, color=color.blue,make_trail=True, interval=10)\n",
      "\n",
      "arm = cylinder(pos=(0,0,0), axis=pivot, radius=.03, color=color.cyan)\n",
      "\n",
      "nub = sphere(pos=vector(0,0,0), radius=0.1, color=color.white)      # little white nub\n",
      "\n",
      "#trace = curve( color = color.red, radius=0.01 )\n",
      "\n",
      "wall1=mybox = box(pos=(-0.1,0,0), axis=(-0.,0.3,0.), length=0.3, height=0.1, width=0.1,color=color.green,opacity=0.3) \n",
      "wall2=mybox = box(pos=(0.1,0,0), axis=(-0.,0.3,0.), length=0.3, height=0.1, width=0.1,color=color.green,opacity=0.3) \n",
      "\n",
      "#trace = curve( color = color.red, make_trail=False,radius=0.01, trail_type=\"points\", interval=10, retain=50)\n",
      "\n",
      "while (True):\n",
      "    rate(5000);\n",
      "    yp=A*sin(omega*time);\n",
      "    \n",
      "    theta_dot_dot=g*sin(theta)/l-A*omega*omega*sin(omega*time)*sin(theta)/l;\n",
      "    theta_dot = theta_dot + theta_dot_dot*dt\n",
      "    theta = theta + theta_dot*dt\n",
      "    \n",
      "    ball.pos.x = -l*sin(theta)\n",
      "    ball.pos.y = yp+l*cos(theta)\n",
      "    \n",
      "    arm.pos.y=yp\n",
      "    nub.pos.y=yp\n",
      "    \n",
      "    arm.axis = (ball.pos.x, ball.pos.y-yp, 0)\n",
      "    #trace.append(pos=ball.pos)\n",
      "    time += dt"
     ],
     "language": "python",
     "metadata": {
      "slideshow": {
       "slide_type": "subslide"
      }
     },
     "outputs": []
    },
    {
     "cell_type": "markdown",
     "metadata": {
      "slideshow": {
       "slide_type": "subslide"
      }
     },
     "source": [
      "<div align=\"center\">\n",
      "<video id=\"movie\" preload controls loop>\n",
      "  <source src=\"/files/data/movies/slow.webm\" type=\"video/webm\" />\n",
      "</video>\n",
      "<video id=\"movie\" preload controls loop>\n",
      "  <source src=\"/files/data/movies/fast.webm\" type=\"video/webm\" />\n",
      "</video>\n",
      "</div>"
     ]
    },
    {
     "cell_type": "markdown",
     "metadata": {
      "slideshow": {
       "slide_type": "slide"
      }
     },
     "source": [
      "#Myth of Indian Rope Trick\n",
      "Sometimes described as \"<font color=\"red\">the world\u2019s greatest illusion</font>\", the Indian rope trick,\n",
      "<p>\n",
      "<div align=\"center\">\n",
      "<img src=\"data/img/IndianTrick.png\"><img src=\"data/img/rope.png\"></p>\n",
      "</div>\n",
      "<p>\n",
      "was once studied by **D. J. Acheson & T. Mullin, Nature, Upside-down pendulums p. 215-216, Nov. 1993**.  The theory of popular rope trick is explained by the dynamics system  of a sequence of connected inverted pendulums if the frequencies of one and last rods is very fast! "
     ]
    },
    {
     "cell_type": "code",
     "collapsed": false,
     "input": [],
     "language": "python",
     "metadata": {},
     "outputs": []
    }
   ],
   "metadata": {}
  }
 ]
}