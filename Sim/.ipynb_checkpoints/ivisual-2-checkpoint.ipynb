{
 "metadata": {
  "name": "",
  "signature": "sha256:622fa71cec62af7295745eb5a71bc84f3bd800541ed4f06069f8659380c65a90"
 },
 "nbformat": 3,
 "nbformat_minor": 0,
 "worksheets": [
  {
   "cells": [
    {
     "cell_type": "code",
     "collapsed": false,
     "input": [
      "from IPython.core.display import HTML\n",
      "def css_styling():\n",
      "    styles = open(\"styles/example.css\", \"r\").read()\n",
      "    return HTML(styles)\n",
      "css_styling()"
     ],
     "language": "python",
     "metadata": {},
     "outputs": [
      {
       "html": [
        "<link href='http://fonts.googleapis.com/css?family=Alegreya+Sans:100,300,400,500,700,800,900,100italic,300italic,400italic,500italic,700italic,800italic,900italic' rel='stylesheet' type='text/css'>\n",
        "<link href='http://fonts.googleapis.com/css?family=Arvo:400,700,400italic' rel='stylesheet' type='text/css'>\n",
        "<link href='http://fonts.googleapis.com/css?family=PT+Mono' rel='stylesheet' type='text/css'>\n",
        "<link href='http://fonts.googleapis.com/css?family=Shadows+Into+Light' rel='stylesheet' type='text/css'>\n",
        "<link href='http://fonts.googleapis.com/css?family=Philosopher:400,700,400italic,700italic' rel='stylesheet' type='text/css'>\n",
        "\n",
        "<style>\n",
        "\n",
        "@font-face {\n",
        "    font-family: \"Computer Modern\";\n",
        "    src: url('http://mirrors.ctan.org/fonts/cm-unicode/fonts/otf/cmunss.otf');\n",
        "}\n",
        "\n",
        "#notebook_panel { /* main background */\n",
        "    background: #888;\n",
        "    color: #f6f6f6;\n",
        "}\n",
        "\n",
        "div.cell { /* set cell width to about 80 chars */\n",
        "    width: 800px;\n",
        "}\n",
        "\n",
        "div #notebook { /* centre the content */\n",
        "    background: #fff; /* white background for content */\n",
        "    width: 1000px;\n",
        "    margin: auto;\n",
        "    padding-left: 1em;\n",
        "}\n",
        "\n",
        "#notebook li { /* More space between bullet points */\n",
        "margin-top:0.8em;\n",
        "}\n",
        "\n",
        "/* draw border around running cells */\n",
        "div.cell.border-box-sizing.code_cell.running { \n",
        "    border: 3px solid #111;\n",
        "}\n",
        "\n",
        "/* Put a solid color box around each cell and its output, visually linking them together */\n",
        "div.cell.code_cell {\n",
        "    background-color: rgba(171,165,131,1.0); \n",
        "    border-radius: 10px; /* rounded borders */\n",
        "    padding: 1em;\n",
        "    margin-top: 1em;\n",
        "}\n",
        "\n",
        "div.text_cell_render{\n",
        "    font-family: 'Arvo' sans-serif;\n",
        "    line-height: 130%;\n",
        "    font-size: 115%;\n",
        "    width:700px;\n",
        "    margin-left:auto;\n",
        "    margin-right:auto;\n",
        "}\n",
        "\n",
        "\n",
        "/* Formatting for header cells */\n",
        ".text_cell_render h1 {\n",
        "    font-family: 'Philosopher', sans-serif;\n",
        "    font-weight: 400;\n",
        "    font-size: 40pt;\n",
        "    line-height: 100%;\n",
        "    color: rgb(12,85,97);\n",
        "    margin-bottom: 0.1em;\n",
        "    margin-top: 0.1em;\n",
        "    display: block;\n",
        "}\t\n",
        ".text_cell_render h2 {\n",
        "    font-family: 'Philosopher', serif;\n",
        "    font-weight: 700;\n",
        "    font-size: 24pt;\n",
        "    line-height: 100%;\n",
        "    color: rgb(171,165,131);\n",
        "    margin-bottom: 0.1em;\n",
        "    margin-top: 0.1em;\n",
        "    display: block;\n",
        "}\t\n",
        "\n",
        ".text_cell_render h3 {\n",
        "    font-family: 'Philosopher', serif;\n",
        "    margin-top:12px;\n",
        "    margin-bottom: 3px;\n",
        "    font-style: italic;\n",
        "    color: rgb(95,92,72);\n",
        "}\n",
        "\n",
        ".text_cell_render h4 {\n",
        "    font-family: 'Philosopher', serif;\n",
        "}\n",
        "\n",
        ".text_cell_render h5 {\n",
        "    font-family: 'Alegreya Sans', sans-serif;\n",
        "    font-weight: 300;\n",
        "    font-size: 16pt;\n",
        "    color: grey;\n",
        "    font-style: italic;\n",
        "    margin-bottom: .1em;\n",
        "    margin-top: 0.1em;\n",
        "    display: block;\n",
        "}\n",
        "\n",
        ".text_cell_render h6 {\n",
        "    font-family: 'PT Mono', sans-serif;\n",
        "    font-weight: 300;\n",
        "    font-size: 10pt;\n",
        "    color: grey;\n",
        "    margin-bottom: 1px;\n",
        "    margin-top: 1px;\n",
        "}\n",
        "\n",
        ".CodeMirror{\n",
        "        font-family: \"PT Mono\";\n",
        "        font-size: 100%;\n",
        "}\n",
        "\n",
        "</style>\n"
       ],
       "metadata": {},
       "output_type": "pyout",
       "prompt_number": 1,
       "text": [
        "<IPython.core.display.HTML at 0x104359910>"
       ]
      }
     ],
     "prompt_number": 1
    },
    {
     "cell_type": "code",
     "collapsed": false,
     "input": [
      "#from pylab import *\n",
      "from ivisual import *\n",
      "from numpy import pi,sin,cos\n",
      "\n",
      "from IPython.html.widgets import interact, interactive, fixed\n",
      "from IPython.html import widgets\n",
      "from IPython.display import clear_output, display, HTML, display_html, Javascript\n",
      "from __future__ import division"
     ],
     "language": "python",
     "metadata": {},
     "outputs": [
      {
       "html": [
        "<div id=\"scene\"><div id=\"glowscript\" class=\"glowscript\"></div></div>"
       ],
       "metadata": {},
       "output_type": "display_data",
       "text": [
        "<IPython.core.display.HTML at 0x104be2390>"
       ]
      },
      {
       "javascript": [
        "require.undef(\"nbextensions/glow.1.0.min\");"
       ],
       "metadata": {},
       "output_type": "display_data",
       "text": [
        "<IPython.core.display.Javascript at 0x104be23d0>"
       ]
      },
      {
       "javascript": [
        "require.undef(\"nbextensions/glowcomm\");"
       ],
       "metadata": {},
       "output_type": "display_data",
       "text": [
        "<IPython.core.display.Javascript at 0x104e10350>"
       ]
      },
      {
       "javascript": [
        "require([\"nbextensions/glowcomm\"], function(){console.log(\"glowcomm loaded\");})"
       ],
       "metadata": {},
       "output_type": "display_data",
       "text": [
        "<IPython.core.display.Javascript at 0x104e10490>"
       ]
      }
     ],
     "prompt_number": 2
    },
    {
     "cell_type": "code",
     "collapsed": false,
     "input": [
      "from __future__ import division, print_function\n",
      "from IPython.core import page\n",
      "page.page = print"
     ],
     "language": "python",
     "metadata": {},
     "outputs": []
    },
    {
     "cell_type": "markdown",
     "metadata": {
      "slideshow": {
       "slide_type": "slide"
      }
     },
     "source": [
      "#Inverted Pendulum\n",
      "\n",
      "An inverted pendulum is a pendulum which has its center of mass above its pivot point as follows:\n",
      "<div align=\"center\">\n",
      "<img src=\"data/img/InvertedPendulum.png\"></p>\n",
      "</div>    \n",
      "<p>"
     ]
    },
    {
     "cell_type": "markdown",
     "metadata": {
      "slideshow": {
       "slide_type": "subslide"
      }
     },
     "source": [
      "##Pendulum with oscillatory base\n",
      "Do you even see the show about how to keep the disk not falling down from top of a banboo rode? <p>\n",
      "<div align=\"center\">\n",
      "<img src=\"data/img/InvertPendulum2.png\"></p>\n",
      "</div>\n",
      "<p>\n",
      "The equation of motion for a pendulum connected to a massless, oscillating base is derived the same way as with the pendulum on the cart. The position of the point mass is now given by:\n",
      "$$\n",
      "    \\left( -\\ell \\sin \\theta , y + \\ell \\cos \\theta \\right)\n",
      "$$\n",
      "and the velocity is found by taking the first derivative of the position:\n",
      "$$\n",
      "    v^2=\\dot y^2-2 \\ell \\dot y \\dot \\theta \\sin \\theta + \\ell^2\\dot \\theta ^2.\n",
      "$$\n",
      "\n",
      "The Lagrangian for this system can be written as:\n",
      "\\begin{eqnarray}\n",
      "    L &=& \\text{Kinetic Energy}-\\text{Potential Energy} \\\\\n",
      "      &=&\\frac{1 }{2} m \\left ( \\dot y^2-2 \\ell \\dot y \\dot \\theta \\sin \\theta + \\ell^2\\dot \\theta ^2 \\right) - m g \\left( y + \\ell \\cos \\theta \\right ) \n",
      "\\end{eqnarray}\n",
      "and the equation of motion follows from:\n",
      "$$\n",
      "    {\\mathrm{d} \\over \\mathrm{d}t}{\\partial{L}\\over \\partial{\\dot \\theta}} - {\\partial{L}\\over \\partial \\theta} = 0 \n",
      "$$\n",
      "resulting in:\n",
      "$$\n",
      "    \\ell \\ddot \\theta - \\ddot y \\sin \\theta = g \\sin \\theta. \n",
      "$$\n",
      "\n",
      "If $y$ represents a simple harmonic motion, $y = A \\sin \\omega t$, the following differential equation is:\n",
      "$$\n",
      "    \\ddot \\theta - {g \\over \\ell} \\sin \\theta = -{A \\over \\ell} \\omega^2 \\sin \\omega t \\sin \\theta. \n",
      "$$    "
     ]
    },
    {
     "cell_type": "code",
     "collapsed": false,
     "input": [
      "scene = idisplay('Inverted Pendulum')\n",
      "\n",
      "scene.autoscale = 0     # disable function of auto-zooming\n",
      "scene.title = 'Inverted pendulum'\n",
      "scene.range = (2.05,2.05,2.05)\n",
      "scene.background=color.white\n",
      "\n",
      "theta = 0.1*pi           # angle of 1st pendulum to vertical (initial value)\n",
      "\n",
      "theta_dot = 0.0\t# rate of change of theta1 - initial value\n",
      "\n",
      "g = 9.8\t# acceleration of gravity\n",
      "l = 1.0\t# pendulum arm length \n",
      "m = 0.3\t# mass of pendulum ball\n",
      "omega=30.\n",
      "A=0.1\n",
      "\n",
      "time = 0.0       # initial value of time\n",
      "dt = 0.0001      # time step\n",
      "\n",
      "# Create balls\n",
      "pivot=vector(-l*sin(theta),A*sin(omega*time)+l*cos(theta),0)\n",
      "ball = sphere(color=color.blue, pos=pivot, radius=0.08, make_trail=True, interval=10, retain=50)\n",
      "\n",
      "arm = cylinder(pos=(0,0,0), axis=pivot, radius=.03, color=color.cyan)\n",
      "\n",
      "nub = sphere(pos=(0,0,0), radius=0.1, color=color.white)      # little white nub\n",
      "\n",
      "wall1=mybox = box(pos=(-0.1,0,0), axis=(-0.,0.3,0.), length=0.3, height=0.1, width=0.1,color=color.green,opacity=0.3) \n",
      "wall2=mybox = box(pos=(0.1,0,0), axis=(-0.,0.3,0.), length=0.3, height=0.1, width=0.1,color=color.green,opacity=0.3) \n",
      "\n",
      "\n",
      "while (True):\n",
      "    rate(5000);\n",
      "    yp=A*sin(omega*time);\n",
      "    \n",
      "    theta_dot_dot=g*sin(theta)/l-A*omega*omega*sin(omega*time)*sin(theta)/l;\n",
      "    theta_dot = theta_dot + theta_dot_dot*dt\n",
      "    theta = theta + theta_dot*dt\n",
      "\n",
      "    ball.pos = (-l*sin(theta),yp+l*cos(theta),0)\n",
      "    arm.pos=(0,yp,0)\n",
      "    nub.pos=(nub.x,yp,0)\n",
      "    \n",
      "    arm.axis = (ball.pos.x, ball.pos.y-yp, 0)\n",
      "    time += dt"
     ],
     "language": "python",
     "metadata": {
      "slideshow": {
       "slide_type": "subslide"
      }
     },
     "outputs": []
    },
    {
     "cell_type": "code",
     "collapsed": false,
     "input": [
      "scene = idisplay('Inverted Pendulum')\n",
      "scene.autoscale = 0\n",
      "scene.title = 'Inverted pendulum'\n",
      "scene.range = (2.05,2.05,2.05)\n",
      "scene.background=color.white"
     ],
     "language": "python",
     "metadata": {},
     "outputs": []
    },
    {
     "cell_type": "code",
     "collapsed": false,
     "input": [
      "omega=30.\n",
      "def anim(b):\n",
      "    theta = 0.1*pi           # angle of 1st pendulum to vertical (initial value)\n",
      "\n",
      "    theta_dot = 0.0\t# rate of change of theta1 - initial value\n",
      "\n",
      "    g = 9.8\t# acceleration of gravity\n",
      "    l = 1.0\t# pendulum arm length \n",
      "    m = 0.3\t# mass of pendulum ball\n",
      "    A=0.1\n",
      "\n",
      "    time = 0.0       # initial value of time\n",
      "    dt = 0.0001      # time step\n",
      "\n",
      "    pivot=vector(-l*sin(theta),A*sin(omega*time)+l*cos(theta),0)\n",
      "    ball = sphere(color=color.blue, pos=pivot, radius=0.08, make_trail=True, interval=10, retain=50)\n",
      "\n",
      "    arm = cylinder(pos=(0,0,0), axis=pivot, radius=.03, color=color.cyan)\n",
      "\n",
      "    nub = sphere(pos=(0,0,0), radius=0.1, color=color.white)      # little white nub\n",
      "\n",
      "    wall1=mybox = box(pos=(-0.1,0,0), axis=(-0.,0.3,0.), length=0.3, height=0.1, width=0.1,color=color.green,opacity=0.3) \n",
      "    wall2=mybox = box(pos=(0.1,0,0), axis=(-0.,0.3,0.), length=0.3, height=0.1, width=0.1,color=color.green,opacity=0.3) \n",
      "\n",
      "\n",
      "    while (True):\n",
      "       rate(5000);\n",
      "       yp=A*sin(omega*time);\n",
      "    \n",
      "       theta_dot_dot=g*sin(theta)/l-A*omega*omega*sin(omega*time)*sin(theta)/l;\n",
      "       theta_dot = theta_dot + theta_dot_dot*dt\n",
      "       theta = theta + theta_dot*dt\n",
      "\n",
      "       ball.pos = (-l*sin(theta),yp+l*cos(theta),0)\n",
      "       arm.pos=(0,yp,0)\n",
      "       nub.pos=(nub.x,yp,0)\n",
      "    \n",
      "       arm.axis = (ball.pos.x, ball.pos.y-yp, 0)\n",
      "       time += dt"
     ],
     "language": "python",
     "metadata": {},
     "outputs": [],
     "prompt_number": 3
    },
    {
     "cell_type": "code",
     "collapsed": false,
     "input": [
      "omega_range = widgets.FloatSliderWidget(min=1.,max=100.,step=1,value=30.,description=\"Frequency $\\omega$\")\n",
      "button = widgets.ButtonWidget(description=\"Start\")\n",
      "display(omega_range, button, scene)   \n",
      "button.on_click(anim)\n",
      "\n",
      "def on_value_change(name, value):\n",
      "    global omega\n",
      "    omega = value\n",
      "\n",
      "omega_range.on_trait_change(on_value_change, 'value')   "
     ],
     "language": "python",
     "metadata": {},
     "outputs": [
      {
       "metadata": {},
       "output_type": "display_data",
       "text": [
        "<ivisual.visual.defaultscene at 0x104e10b10>"
       ]
      }
     ],
     "prompt_number": 4
    },
    {
     "cell_type": "markdown",
     "metadata": {
      "slideshow": {
       "slide_type": "subslide"
      }
     },
     "source": [
      "<div align=\"center\">\n",
      "<video id=\"movie\" preload controls loop>\n",
      "  <source src=\"data/movies/slow.webm\" type=\"video/webm\" />\n",
      "</video>\n",
      "<video id=\"movie\" preload controls loop>\n",
      "  <source src=\"data/movies/fast.webm\" type=\"video/webm\" />\n",
      "</video>\n",
      "</div>"
     ]
    },
    {
     "cell_type": "markdown",
     "metadata": {
      "slideshow": {
       "slide_type": "slide"
      }
     },
     "source": [
      "#Myth of Indian Rope Trick\n",
      "Sometimes described as \"<font color=\"red\">the world\u2019s greatest illusion</font>\", the Indian rope trick,\n",
      "<p>\n",
      "<div align=\"center\">\n",
      "<img src=\"data/img/IndianTrick.png\"><img src=\"data/img/rope.png\"></p>\n",
      "</div>\n",
      "<p>\n",
      "was once studied by \n",
      "\n",
      "**D. J. Acheson & T. Mullin, Nature, Upside-down pendulums p. 215-216, Nov. 1993**.  \n",
      "\n",
      "The theory of popular rope trick is explained by the dynamics system  of a sequence of connected inverted pendulums if the frequencies of one and last rods is very fast! "
     ]
    },
    {
     "cell_type": "code",
     "collapsed": false,
     "input": [],
     "language": "python",
     "metadata": {},
     "outputs": []
    }
   ],
   "metadata": {}
  }
 ]
}