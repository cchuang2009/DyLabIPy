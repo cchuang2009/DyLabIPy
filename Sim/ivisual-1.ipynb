{
 "metadata": {
  "name": "",
  "signature": "sha256:d13c986ca8392d628f25ca0c0085fcbf69e7f4b0fca5294d034bcf5fddf40d87"
 },
 "nbformat": 3,
 "nbformat_minor": 0,
 "worksheets": [
  {
   "cells": [
    {
     "cell_type": "code",
     "collapsed": false,
     "input": [
      "from IPython.core.display import HTML\n",
      "def css_styling():\n",
      "    styles = open(\"styles/example.css\", \"r\").read()\n",
      "    return HTML(styles)\n",
      "css_styling()"
     ],
     "language": "python",
     "metadata": {},
     "outputs": [
      {
       "html": [
        "<link href='http://fonts.googleapis.com/css?family=Alegreya+Sans:100,300,400,500,700,800,900,100italic,300italic,400italic,500italic,700italic,800italic,900italic' rel='stylesheet' type='text/css'>\n",
        "<link href='http://fonts.googleapis.com/css?family=Arvo:400,700,400italic' rel='stylesheet' type='text/css'>\n",
        "<link href='http://fonts.googleapis.com/css?family=PT+Mono' rel='stylesheet' type='text/css'>\n",
        "<link href='http://fonts.googleapis.com/css?family=Shadows+Into+Light' rel='stylesheet' type='text/css'>\n",
        "<link href='http://fonts.googleapis.com/css?family=Philosopher:400,700,400italic,700italic' rel='stylesheet' type='text/css'>\n",
        "\n",
        "<style>\n",
        "\n",
        "@font-face {\n",
        "    font-family: \"Computer Modern\";\n",
        "    src: url('http://mirrors.ctan.org/fonts/cm-unicode/fonts/otf/cmunss.otf');\n",
        "}\n",
        "\n",
        "#notebook_panel { /* main background */\n",
        "    background: #888;\n",
        "    color: #f6f6f6;\n",
        "}\n",
        "\n",
        "div.cell { /* set cell width to about 80 chars */\n",
        "    width: 800px;\n",
        "}\n",
        "\n",
        "div #notebook { /* centre the content */\n",
        "    background: #fff; /* white background for content */\n",
        "    width: 1000px;\n",
        "    margin: auto;\n",
        "    padding-left: 1em;\n",
        "}\n",
        "\n",
        "#notebook li { /* More space between bullet points */\n",
        "margin-top:0.8em;\n",
        "}\n",
        "\n",
        "/* draw border around running cells */\n",
        "div.cell.border-box-sizing.code_cell.running { \n",
        "    border: 3px solid #111;\n",
        "}\n",
        "\n",
        "/* Put a solid color box around each cell and its output, visually linking them together */\n",
        "div.cell.code_cell {\n",
        "    background-color: rgba(171,165,131,1.0); \n",
        "    border-radius: 10px; /* rounded borders */\n",
        "    padding: 1em;\n",
        "    margin-top: 1em;\n",
        "}\n",
        "\n",
        "div.text_cell_render{\n",
        "    font-family: 'Arvo' sans-serif;\n",
        "    line-height: 130%;\n",
        "    font-size: 115%;\n",
        "    width:700px;\n",
        "    margin-left:auto;\n",
        "    margin-right:auto;\n",
        "}\n",
        "\n",
        "\n",
        "/* Formatting for header cells */\n",
        ".text_cell_render h1 {\n",
        "    font-family: 'Philosopher', sans-serif;\n",
        "    font-weight: 400;\n",
        "    font-size: 40pt;\n",
        "    line-height: 100%;\n",
        "    color: rgb(12,85,97);\n",
        "    margin-bottom: 0.1em;\n",
        "    margin-top: 0.1em;\n",
        "    display: block;\n",
        "}\t\n",
        ".text_cell_render h2 {\n",
        "    font-family: 'Philosopher', serif;\n",
        "    font-weight: 700;\n",
        "    font-size: 24pt;\n",
        "    line-height: 100%;\n",
        "    color: rgb(171,165,131);\n",
        "    margin-bottom: 0.1em;\n",
        "    margin-top: 0.1em;\n",
        "    display: block;\n",
        "}\t\n",
        "\n",
        ".text_cell_render h3 {\n",
        "    font-family: 'Philosopher', serif;\n",
        "    margin-top:12px;\n",
        "    margin-bottom: 3px;\n",
        "    font-style: italic;\n",
        "    color: rgb(95,92,72);\n",
        "}\n",
        "\n",
        ".text_cell_render h4 {\n",
        "    font-family: 'Philosopher', serif;\n",
        "}\n",
        "\n",
        ".text_cell_render h5 {\n",
        "    font-family: 'Alegreya Sans', sans-serif;\n",
        "    font-weight: 300;\n",
        "    font-size: 16pt;\n",
        "    color: grey;\n",
        "    font-style: italic;\n",
        "    margin-bottom: .1em;\n",
        "    margin-top: 0.1em;\n",
        "    display: block;\n",
        "}\n",
        "\n",
        ".text_cell_render h6 {\n",
        "    font-family: 'PT Mono', sans-serif;\n",
        "    font-weight: 300;\n",
        "    font-size: 10pt;\n",
        "    color: grey;\n",
        "    margin-bottom: 1px;\n",
        "    margin-top: 1px;\n",
        "}\n",
        "\n",
        ".CodeMirror{\n",
        "        font-family: \"PT Mono\";\n",
        "        font-size: 100%;\n",
        "}\n",
        "\n",
        "</style>\n"
       ],
       "metadata": {},
       "output_type": "pyout",
       "prompt_number": 1,
       "text": [
        "<IPython.core.display.HTML at 0x104476150>"
       ]
      }
     ],
     "prompt_number": 1
    },
    {
     "cell_type": "code",
     "collapsed": false,
     "input": [
      "from __future__ import division, print_function\n",
      "from IPython.core import page\n",
      "page.page = print"
     ],
     "language": "python",
     "metadata": {},
     "outputs": [],
     "prompt_number": 2
    },
    {
     "cell_type": "markdown",
     "metadata": {
      "slideshow": {
       "slide_type": "slide"
      }
     },
     "source": [
      "# Double Pendulum\n",
      "A double pendulum is a pendulum with another pendulum attached to its end, and is a simple dynamics system that exhibits rich chaotic behavior,i.e. being sensible strongly to initial conditions:\n",
      "<p>\n",
      "<div align=\"center\">\n",
      "<img src=\"data/img/Double-Pendulum.png\"></p>\n",
      "</div>"
     ]
    },
    {
     "cell_type": "markdown",
     "metadata": {
      "slideshow": {
       "slide_type": "subslide"
      }
     },
     "source": [
      "For simplicity, assume the lengths are equal, e.g. $L_1=L_2=l$, and the weights of the balls attached at the ends of rods are also equal, $m_1=m_2=m$. Also let \n",
      "$(x_1,y_1)$ and $(x_2,y_2)$ are the coordinates of the first and second ball. Then the dynamics system are as follows:<p>\n",
      "\\begin{eqnarray}\n",
      "(x_1,y_1)&=&(l\\sin(\\theta_1),-l \\cos(\\theta_1))\\\\\n",
      "(x_2,y_2)&=&(l\\sin(\\theta_1) + l \\sin(\\theta_2),-l\\cos(\\theta_1) - l\\cos(\\theta_2))\\\\\n",
      "\\frac{d \\theta_1}{d t}&=&\\dot\\theta_1\\\\\n",
      "\\frac{d \\theta_2}{d t}&=&\\dot\\theta_2\\\\\n",
      "\\frac{d \\dot\\theta_1}{d t}&=&\\ddot\\theta_1\\\\\n",
      "\\frac{d \\dot\\theta_2}{d t}&=&\\ddot\\theta_2\\\\\n",
      "\\vartriangle\\theta&=&\\theta_2-\\theta_2 \\\\\n",
      "\\ddot\\theta_1&=&\\frac { m l (\\dot\\theta_1^2)*\\sin(\\vartriangle\\theta)*\\cos(\\vartriangle\\theta) + m g \\sin(\\theta_2)*\\cos(\\vartriangle\\theta) + m l (\\dot\\theta_2^2)*\\sin(\\vartriangle\\theta) -2 m g \\sin(\\theta_1)} \n",
      "                      { 2 m l - m l (\\cos\\vartriangle\\theta)^2 }\\\\\n",
      "\\ddot\\theta_2&=&\\frac { m l (\\dot\\theta_2^2)*\\sin(\\vartriangle\\theta)*\\cos(\\vartriangle\\theta) +2 m g \\sin(\\theta_1)*\\cos(\\vartriangle\\theta) + m l (\\dot\\theta_1^2)*\\sin(\\vartriangle\\theta) - m g \\sin(\\theta_2)} \n",
      "                      { 2 m l - m l (\\cos\\vartriangle\\theta)^2 }   \n",
      "\\end{eqnarray}\n",
      "By discretization the differential operation, we could make animation of the motion of double pendulum via VPython: "
     ]
    },
    {
     "cell_type": "code",
     "collapsed": false,
     "input": [
      "#from pylab import *\n",
      "from ivisual import *\n",
      "from numpy import pi,sin,cos\n",
      "\n",
      "from IPython.html.widgets import interact, interactive, fixed\n",
      "from IPython.html import widgets\n",
      "from IPython.display import clear_output, display, HTML, display_html, Javascript\n",
      "from __future__ import division"
     ],
     "language": "python",
     "metadata": {},
     "outputs": [
      {
       "html": [
        "<div id=\"scene\"><div id=\"glowscript\" class=\"glowscript\"></div></div>"
       ],
       "metadata": {},
       "output_type": "display_data",
       "text": [
        "<IPython.core.display.HTML at 0x104db1050>"
       ]
      },
      {
       "javascript": [
        "require.undef(\"nbextensions/glow.1.0.min\");"
       ],
       "metadata": {},
       "output_type": "display_data",
       "text": [
        "<IPython.core.display.Javascript at 0x104db10d0>"
       ]
      },
      {
       "javascript": [
        "require.undef(\"nbextensions/glowcomm\");"
       ],
       "metadata": {},
       "output_type": "display_data",
       "text": [
        "<IPython.core.display.Javascript at 0x104dc2ad0>"
       ]
      },
      {
       "javascript": [
        "require([\"nbextensions/glowcomm\"], function(){console.log(\"glowcomm loaded\");})"
       ],
       "metadata": {},
       "output_type": "display_data",
       "text": [
        "<IPython.core.display.Javascript at 0x104dc2c10>"
       ]
      }
     ],
     "prompt_number": 1
    },
    {
     "cell_type": "code",
     "collapsed": false,
     "input": [
      "scene = idisplay('Double Pendulum')\n",
      "\n",
      "scene.autoscale = 0  # disable function of auto-zooming\n",
      "scene.title = 'Double pendulum'\n",
      "scene.range = (2.05,2.05,2.05)\n",
      "\n",
      "scene.background=color.white\n",
      "\n",
      "theta1 = pi/3.0   # angle of 1st pendulum to vertical (initial value)\n",
      "theta2 = pi/12.0  # angle of 2nd pendulum to vertical (initial value)\n",
      "\n",
      "theta1_dot = 0.0  # rate of change of theta1 - initial value\n",
      "theta2_dot = 0.1\n",
      "\n",
      "g = 9.8     # acceleration of gravity\n",
      "l = 1.0     # pendulum arm length \n",
      "m = 0.3     # mass of pendulum ball\n",
      "\n",
      "ball1 = sphere(pos=vector(l*sin(theta1),-l*cos(theta1),0), radius=0.12, color=color.blue)\n",
      "ball2 = sphere(pos=vector(l*sin(theta1) + l*sin(theta2),-l*cos(theta1) - l*cos(theta2),0), radius=0.12, color=color.blue ,make_trail=True)#, interval=10, retain=50)\n",
      "arm1 = cylinder(pos=(0,0,0), axis=(l*sin(theta1),-l*cos(theta1),0), radius=.03, color=color.cyan)\n",
      "arm2 = cylinder(pos=ball1.pos, axis=ball2.pos-ball1.pos, radius=.03, color=color.blue)\n",
      "\n",
      "nub = sphere(pos=vector(0,0,0), radius=0.05, color=color.white)\t\t# little white nub\n",
      "\n",
      "time=0.0\n",
      "dt=0.0001\n",
      "while True:\n",
      "    rate(5000)# Set number of times loop is repeated per second\n",
      "    dta= theta2 - theta1# dta (short for 'delta' - the difference between the two angles)\n",
      "    theta1_dot_dot = ( m*l*(theta1_dot**2.0)*sin(dta)*cos(dta) + m*g*sin(theta2)*cos(dta) + \\\n",
      "                       m*l*(theta2_dot**2.0)*sin(dta) -2.0*m*g*sin(theta1) ) /  \\\n",
      "                       ( 2.0*m*l - m*l*(cos(dta))**2.0 )# equation of motion\n",
      "    theta2_dot_dot = ( -m*l*(theta2_dot**2.0)*sin(dta)*cos(dta) + 2.0*m*(g*sin(theta1)*cos(dta) \\\n",
      "                     - l*(theta1_dot**2.0)*sin(dta) - g*sin(theta2)) ) /  \\\n",
      "                     ( 2.0*m*l - m*l*(cos(dta))**2.0 )# the other equation of motion\n",
      "    theta1_dot = theta1_dot + theta1_dot_dot*dt# makes sense if you think about it\n",
      "    theta2_dot = theta2_dot + theta2_dot_dot*dt\n",
      "    theta1 = theta1 + theta1_dot*dt\n",
      "    theta2 = theta2 + theta2_dot*dt\n",
      "\n",
      "    ball1.pos=( l*sin(theta1),-l*cos(theta1),0)\n",
      "    arm1.axis = (ball1.pos.x, ball1.pos.y, 0)\n",
      "\n",
      "    ball2.pos=(l*sin(theta1) + l*sin(theta2) , -l*cos(theta1) - l*cos(theta2), 0)\n",
      "    arm2.pos = ball1.pos#(l*sin(theta1), -l*cos(theta1), 0)\n",
      "    arm2.axis = ball2.pos-ball1.pos\n",
      "    \n",
      "    time += dt"
     ],
     "language": "python",
     "metadata": {},
     "outputs": [
      {
       "html": [
        "<div id=\"scene2\"><div id=\"glowscript\" class=\"glowscript\"></div></div>"
       ],
       "metadata": {},
       "output_type": "display_data",
       "text": [
        "<IPython.core.display.HTML at 0x104fc0890>"
       ]
      },
      {
       "javascript": [
        "window.__context = { glowscript_container: $(\"#glowscript\").removeAttr(\"id\")}"
       ],
       "metadata": {},
       "output_type": "display_data",
       "text": [
        "<IPython.core.display.Javascript at 0x104fc0990>"
       ]
      }
     ]
    },
    {
     "cell_type": "code",
     "collapsed": false,
     "input": [
      "import io\n",
      "import base64\n",
      "from IPython.display import HTML\n",
      "\n",
      "video = io.open('data/movies/pendulum.webm', 'r+b').read()\n",
      "encoded = base64.b64encode(video)\n",
      "HTML(data='''<div align=\"center\"><video alt=\"test\" controls>\n",
      "                <source src=\"data:video/webm;base64,{0}\" type=\"video/webm\" />\n",
      "             </video></div>'''.format(encoded.decode('ascii')))"
     ],
     "language": "python",
     "metadata": {
      "slideshow": {
       "slide_type": "subslide"
      }
     },
     "outputs": []
    },
    {
     "cell_type": "markdown",
     "metadata": {
      "slideshow": {
       "slide_type": "subslide"
      }
     },
     "source": [
      "<div align=\"center\">\n",
      "<video id=\"movie\" preload controls loop>\n",
      "  <source src=\"/files/data/movies/pendulum.webm\" type=\"video/webm\" />\n",
      "</video>\n",
      "</div>"
     ]
    },
    {
     "cell_type": "markdown",
     "metadata": {
      "slideshow": {
       "slide_type": "subslide"
      }
     },
     "source": [
      "##Questions:\n",
      "The double pendulum undergoes chaotic motion; in other words, the tracjectory of ball shows a sensitive dependence on initial conditions.\n",
      "\n",
      "<ol>\n",
      "<li> Guess what the difference of results is between with small and big angles starting initially.\n",
      "<li> Also make the trajectory of movement of first ball and observe it with it of other.\n",
      "</ol>"
     ]
    }
   ],
   "metadata": {}
  }
 ]
}