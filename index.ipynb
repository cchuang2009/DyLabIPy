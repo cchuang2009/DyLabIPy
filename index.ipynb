{
 "metadata": {
  "name": "",
  "signature": "sha256:881378c62fd78281eba1017fce8a798b7e503cfe047992f5eb1b05f038f8a1b3"
 },
 "nbformat": 3,
 "nbformat_minor": 0,
 "worksheets": [
  {
   "cells": [
    {
     "cell_type": "heading",
     "level": 1,
     "metadata": {},
     "source": [
      "On-line Laboratary for Dynamical Systems  On IPython"
     ]
    },
    {
     "cell_type": "markdown",
     "metadata": {},
     "source": [
      "## Index\n",
      "This purpose of package is to avail ubiquitous on-line Lab for Dynamical Systems, with minimal resources but unlimit gains.\n",
      "\n",
      "To implement the platform, we use the following Python and IPython (notebook interface) as the user interface on the top of power Python computing environment. Sources can be re-used on Sage Notebook.\n",
      "\n",
      "[Python Modules Requirement]\n",
      " \n",
      "* Python - 2.7.x, 3.4.x\n",
      "* SciPy/NumPy\n",
      "* Matplotlib+ IVisual\n",
      "* IPython (2.+], ipywidgets, JSAnimation, ipy_table\n",
      "* SymPy\n",
      "\n",
      "[Topics]\n",
      "- [Epidemic Model](DiffEq/0-Basics.ipynb), [Epidemic Model (HTML)](DiffEq/0-Basics.html)\n",
      "- [2D Dynamical Systems](DiffEq/2Dde.ipynb)\n",
      "- [Greatest Indian Rope-Strick](Sim/index.ipynb)\n",
      "   -  Double Pendulum: [IPyNB](Sim/ivisual-1.ipynb), [HTML](Sim/ivisual-1.html)\n",
      "   -  Inverted Pendulum: [IPyNB](Sim/ivisual-2.ipynb), [HTML](Sim/ivisual-2.html)"
     ]
    },
    {
     "cell_type": "code",
     "collapsed": false,
     "input": [
      "from IPython.core.display import HTML\n",
      "def css_styling():\n",
      "    styles = open(\"styles/custom.css\", \"r\").read()\n",
      "    return HTML(styles)\n",
      "css_styling()"
     ],
     "language": "python",
     "metadata": {},
     "outputs": [
      {
       "html": [
        "\n",
        " <style type=\"text/css\">\n",
        "  @-webkit-keyframes spinner {\n",
        "      from { -webkit-transform: rotateY(0deg); }\n",
        "      to   { -webkit-transform: rotateY(-360deg); }\n",
        "  }\n",
        "  @keyframes spinner {\n",
        "      from {\n",
        "            -moz-transform: rotateY(0deg);\n",
        "            -ms-transform: rotateY(0deg);\n",
        "            transform: rotateY(0deg);\n",
        "     }\n",
        "     to {\n",
        "         -moz-transform: rotateY(-360deg);\n",
        "         -ms-transform: rotateY(-360deg);\n",
        "         transform: rotateY(-360deg);\n",
        "     }\n",
        "  }\n",
        "  .stage{\n",
        "       margin:1em auto;\n",
        "      -webkit-perspective:1200px;\n",
        "      -moz-perspective:1200px;\n",
        "      -ms-perspective:1200px;perspective:1200px\n",
        "  }\n",
        "  .spinner{\n",
        "      -webkit-animation-name:spinner;\n",
        "      -webkit-animation-timing-function:linear;\n",
        "      -webkit-animation-iteration-count:infinite;\n",
        "      -webkit-animation-duration:6s;\n",
        "      -webkit-transform-style:preserve-3d;\n",
        "      animation-name:spinner;\n",
        "      animation-timing-function:linear;\n",
        "      animation-iteration-count:infinite;\n",
        "      animation-duration:6s;\n",
        "      transform-style:preserve-3d\n",
        "  }\n",
        "  .spinner:hover{\n",
        "     -webkit-animation-play-state:paused;\n",
        "     animation-play-state:paused\n",
        "  }.spinner img,.spinner5 img{\n",
        "     position:absolute;\n",
        "     border:1px solid #ccc;\n",
        "     background:rgba(255,255,255,.8);\n",
        "     box-shadow:inset 0 0 20px rgba(0,0,0,.2)\n",
        "  }\n",
        "  </style>\n",
        "  <style type=\"text/css\">\n",
        "    @-webkit-keyframes spinner5 {\n",
        "       from,15% { -webkit-transform: rotateY(0);       }\n",
        "       20%,35%  { -webkit-transform: rotateY(-72deg);  }\n",
        "       40%,55%  { -webkit-transform: rotateY(-144deg); }\n",
        "       60%,75%  { -webkit-transform: rotateY(-216deg); }\n",
        "       80%,95%  { -webkit-transform: rotateY(-288deg); }\n",
        "       to       { -webkit-transform: rotateY(-360deg); }\n",
        "    }\n",
        "    @keyframes spinner5 {\n",
        "       from,15% {\n",
        "          -moz-transform: rotateY(0);\n",
        "          -ms-transform: rotateY(0);\n",
        "          transform: rotateY(0);\n",
        "       }\n",
        "       20%,35%  {\n",
        "         -moz-transform: rotateY(-72deg);\n",
        "         -ms-transform: rotateY(-72deg);\n",
        "         transform: rotateY(-72deg);\n",
        "       }\n",
        "       40%,55%  {\n",
        "         -moz-transform: rotateY(-144deg);\n",
        "         -ms-transform: rotateY(-144deg);\n",
        "         transform: rotateY(-144deg);\n",
        "       }\n",
        "       60%,75%  {\n",
        "          -moz-transform: rotateY(-216deg);\n",
        "          -ms-transform: rotateY(-216deg);\n",
        "          transform: rotateY(-216deg);\n",
        "       }\n",
        "       80%,95%  {\n",
        "          -moz-transform: rotateY(-288deg);\n",
        "          -ms-transform: rotateY(-288deg);\n",
        "          transform: rotateY(-288deg);\n",
        "       }\n",
        "       to {\n",
        "         -moz-transform: rotateY(-360deg);\n",
        "         -ms-transform: rotateY(-360deg);\n",
        "          transform: rotateY(-360deg);\n",
        "       }\n",
        "   }\n",
        "   .spinner5{\n",
        "       -webkit-animation-name:spinner5;\n",
        "       -webkit-animation-timing-function:ease-out;\n",
        "       -webkit-animation-iteration-count:infinite;\n",
        "       -webkit-animation-duration:20s;\n",
        "       animation-name:spinner5;\n",
        "       animation-timing-function:ease-out;\n",
        "       animation-iteration-count:infinite;\n",
        "       animation-duration:20s;\n",
        "       -webkit-transform-style:preserve-3d;\n",
        "       -moz-transform-style:preserve-3d;\n",
        "       -ms-transform-style:preserve-3d;\n",
        "       transform-style:preserve-3d}\n",
        "  </style>\n"
       ],
       "metadata": {},
       "output_type": "pyout",
       "prompt_number": 1,
       "text": [
        "<IPython.core.display.HTML at 0x106074750>"
       ]
      }
     ],
     "prompt_number": 1
    },
    {
     "cell_type": "markdown",
     "metadata": {},
     "source": [
      "\n",
      "<p>\n",
      "\n",
      "\n",
      "\n",
      "\n",
      "\n"
     ]
    },
    {
     "cell_type": "code",
     "collapsed": false,
     "input": [],
     "language": "python",
     "metadata": {},
     "outputs": []
    },
    {
     "cell_type": "heading",
     "level": 2,
     "metadata": {},
     "source": [
      "Git Tutorial"
     ]
    },
    {
     "cell_type": "code",
     "collapsed": false,
     "input": [
      "import sha\n",
      "\n",
      "# Our first commit\n",
      "data1 = 'Math 2014 - Lecture 1 '\n",
      "meta1 = 'date: 8/1/14'\n",
      "hash1 = sha.sha(data1 + meta1).hexdigest()\n",
      "print 'Hash:', hash1"
     ],
     "language": "python",
     "metadata": {},
     "outputs": [
      {
       "output_type": "stream",
       "stream": "stdout",
       "text": [
        "Hash: 5af60e11e3856fad759c830257ece50c115b708a\n"
       ]
      }
     ],
     "prompt_number": 1
    },
    {
     "cell_type": "code",
     "collapsed": false,
     "input": [
      "%%bash\n",
      "git config --global user.name \"Chu-ching Huang\"\n",
      "git config --global user.email \"cchuang2009@gmail.com\""
     ],
     "language": "python",
     "metadata": {},
     "outputs": [],
     "prompt_number": 3
    },
    {
     "cell_type": "code",
     "collapsed": false,
     "input": [
      "%%bash\n",
      "rm -rf lecture\n",
      "git init lecture"
     ],
     "language": "python",
     "metadata": {},
     "outputs": [
      {
       "output_type": "stream",
       "stream": "stdout",
       "text": [
        "Initialized empty Git repository in /Users/cch/Desktop/IPythonNotebook/math-2014/lecture/.git/\n"
       ]
      }
     ],
     "prompt_number": 4
    },
    {
     "cell_type": "code",
     "collapsed": false,
     "input": [
      "%%bash\n",
      "cd lecture\n",
      "\n",
      "ls -la"
     ],
     "language": "python",
     "metadata": {},
     "outputs": [
      {
       "output_type": "stream",
       "stream": "stdout",
       "text": [
        "total 0\n",
        "drwxr-xr-x   3 cch  staff  102  7 29 08:57 .\n",
        "drwxr-xr-x  24 cch  staff  816  7 29 08:57 ..\n",
        "drwxr-xr-x  10 cch  staff  340  7 29 08:57 .git\n"
       ]
      }
     ],
     "prompt_number": 5
    },
    {
     "cell_type": "code",
     "collapsed": false,
     "input": [
      "%%bash\n",
      "cd lecture\n",
      "\n",
      "echo \"Lecture2014 for Math\" > file1.txt"
     ],
     "language": "python",
     "metadata": {},
     "outputs": [],
     "prompt_number": 6
    },
    {
     "cell_type": "code",
     "collapsed": false,
     "input": [
      "%%bash\n",
      "cd lecture\n",
      "\n",
      "git status"
     ],
     "language": "python",
     "metadata": {},
     "outputs": [
      {
       "output_type": "stream",
       "stream": "stdout",
       "text": [
        "# On branch master\n",
        "# Untracked files:\n",
        "#   (use \"git add <file>...\" to include in what will be committed)\n",
        "#\n",
        "#\tfile1.txt\n",
        "nothing added to commit but untracked files present (use \"git add\" to track)\n"
       ]
      }
     ],
     "prompt_number": 3
    },
    {
     "cell_type": "code",
     "collapsed": false,
     "input": [
      "%%bash\n",
      "cd lecture\n",
      "\n",
      "git commit -a -m\"This is our first commit\""
     ],
     "language": "python",
     "metadata": {},
     "outputs": [
      {
       "output_type": "stream",
       "stream": "stdout",
       "text": [
        "# On branch master\n",
        "# Untracked files:\n",
        "#   (use \"git add <file>...\" to include in what will be committed)\n",
        "#\n",
        "#\tfile1.txt\n",
        "nothing added to commit but untracked files present (use \"git add\" to track)\n"
       ]
      }
     ],
     "prompt_number": 4
    },
    {
     "cell_type": "code",
     "collapsed": false,
     "input": [
      "%%bash\n",
      "\n",
      "cp -rp 1 lecture/"
     ],
     "language": "python",
     "metadata": {},
     "outputs": [],
     "prompt_number": 11
    },
    {
     "cell_type": "code",
     "collapsed": false,
     "input": [
      "%%bash\n",
      "\n",
      "\n",
      "cp index.ipynb lecture\n",
      "cp -rp imgs lecture\n",
      "cp -rp styles lecture\n",
      "ls -l lecture"
     ],
     "language": "python",
     "metadata": {},
     "outputs": [
      {
       "output_type": "stream",
       "stream": "stdout",
       "text": [
        "total 40\n",
        "drwxr-xr-x  7 cch  staff    238  7 28 14:22 1\n",
        "-rw-r--r--  1 cch  staff     21  7 29 08:58 file1.txt\n",
        "drwxrwxrwx  8 cch  staff    272  7 15 01:25 imgs\n",
        "-rwxr-xr-x  1 cch  staff  15689  7 29 09:19 index.ipynb\n",
        "drwxrwxrwx  5 cch  staff    170  7 24 13:39 styles\n"
       ]
      }
     ],
     "prompt_number": 13
    },
    {
     "cell_type": "code",
     "collapsed": false,
     "input": [
      "%%bash\n",
      "\n",
      "cd lecture\n",
      "git add index.ipynb\n",
      "git add styles\n",
      "git add imgs\n",
      "git add 1\n",
      "git commit -m \"Math 2014 lecture 1\""
     ],
     "language": "python",
     "metadata": {},
     "outputs": [
      {
       "output_type": "stream",
       "stream": "stdout",
       "text": [
        "# On branch master\n",
        "# Untracked files:\n",
        "#   (use \"git add <file>...\" to include in what will be committed)\n",
        "#\n",
        "#\tfile1.txt\n",
        "nothing added to commit but untracked files present (use \"git add\" to track)\n"
       ]
      }
     ],
     "prompt_number": 8
    },
    {
     "cell_type": "code",
     "collapsed": false,
     "input": [
      "%%bash\n",
      "\n",
      "cd lecture\n",
      "git add README.md\n",
      "git commit -m \"Math 2014\"\n"
     ],
     "language": "python",
     "metadata": {},
     "outputs": [
      {
       "output_type": "stream",
       "stream": "stdout",
       "text": [
        "[master 93abafc] Math 2014\n",
        " 1 file changed, 29 insertions(+), 33 deletions(-)\n",
        " rewrite README.md (80%)\n"
       ]
      }
     ],
     "prompt_number": 20
    },
    {
     "cell_type": "code",
     "collapsed": false,
     "input": [
      "%%bash\n",
      "\n",
      "cd lecture\n",
      "git add index.html\n",
      "git commit -m \"Math 2014\"\n"
     ],
     "language": "python",
     "metadata": {},
     "outputs": [
      {
       "output_type": "stream",
       "stream": "stdout",
       "text": [
        "# On branch master\n",
        "# Your branch is ahead of 'origin/master' by 1 commit.\n",
        "#   (use \"git push\" to publish your local commits)\n",
        "#\n",
        "# Untracked files:\n",
        "#   (use \"git add <file>...\" to include in what will be committed)\n",
        "#\n",
        "#\tfile1.txt\n",
        "nothing added to commit but untracked files present (use \"git add\" to track)\n"
       ]
      }
     ],
     "prompt_number": 14
    },
    {
     "cell_type": "code",
     "collapsed": false,
     "input": [
      "%%bash\n",
      "\n",
      "cd lecture\n",
      "git add 2\n",
      "git add 3\n",
      "git add 4\n",
      "git add 8\n",
      "git commit -m \"Math 2014 2-8\"\n"
     ],
     "language": "python",
     "metadata": {},
     "outputs": [
      {
       "output_type": "stream",
       "stream": "stdout",
       "text": [
        "[master d7129ab] Math 2014 2-8\n",
        " 84 files changed, 92866 insertions(+)\n",
        " create mode 100644 2/.DS_Store\n",
        " create mode 100755 2/.ipynb_checkpoints/2013-2-math-2-checkpoint.ipynb\n",
        " create mode 100644 2/.ipynb_checkpoints/Untitled0-checkpoint.ipynb\n",
        " create mode 100755 2/2013-2-math-2.ipynb\n",
        " create mode 100755 2/images/.DS_Store\n",
        " create mode 100644 2/images/2-dim.png\n",
        " create mode 100644 2/images/3-dim.png\n",
        " create mode 100755 2/images/Cantor.png\n",
        " create mode 100755 2/images/Chrysanthemum.png\n",
        " create mode 100755 2/images/Koch.gif\n",
        " create mode 100755 2/images/LW306.jpg\n",
        " create mode 100755 2/images/LW389.jpg\n",
        " create mode 100755 2/images/Mandelbrot.jpg\n",
        " create mode 100755 2/images/Monalisa.png\n",
        " create mode 100755 2/images/Sierpinski.gif\n",
        " create mode 100755 2/images/Sierpinski.jpg\n",
        " create mode 100755 2/images/abs.png\n",
        " create mode 100755 2/images/britain.png\n",
        " create mode 100755 2/images/coastline.png\n",
        " create mode 100755 2/images/galois.png\n",
        " create mode 100755 2/images/housedorff.jpg\n",
        " create mode 100755 2/images/julia.gif\n",
        " create mode 100755 2/images/julia.pgm\n",
        " create mode 100755 2/images/julia.png\n",
        " create mode 100755 2/images/koch.jpg\n",
        " create mode 100755 2/images/ms.gif\n",
        " create mode 100755 2/images/patrick.png\n",
        " create mode 100755 2/images/sunflower.png\n",
        " create mode 100755 2/images/sunflower1.png\n",
        " create mode 100755 2/images/sunflower2.png\n",
        " create mode 100644 2/images/test.svg\n",
        " create mode 100755 2/images/traj.png\n",
        " create mode 100755 2/styles/.DS_Store\n",
        " create mode 100755 2/styles/custom.css\n",
        " create mode 100755 2/styles/impress-demo.css\n",
        " create mode 100644 3/.DS_Store\n",
        " create mode 100755 3/.ipynb_checkpoints/2013-2-3-checkpoint.ipynb\n",
        " create mode 100755 3/2013-2-3.ipynb\n",
        " create mode 100644 3/data/.DS_Store\n",
        " create mode 100644 3/data/audio/.DS_Store\n",
        " create mode 100755 3/data/audio/AltoSax440.wav\n",
        " create mode 100755 3/data/audio/Flute440.wav\n",
        " create mode 100755 3/data/audio/Guitar440.wav\n",
        " create mode 100755 3/data/audio/README\n",
        " create mode 100755 3/data/audio/Vincent.mp3\n",
        " create mode 100755 3/data/audio/Violin443.mp3\n",
        " create mode 100755 3/data/audio/Violin443.wav\n",
        " create mode 100755 3/data/audio/african.wav\n",
        " create mode 100755 3/data/audio/bird.wav\n",
        " create mode 100755 3/data/audio/blues.wav\n",
        " create mode 100755 3/data/audio/classical.wav\n",
        " create mode 100755 3/data/audio/country.wav\n",
        " create mode 100755 3/data/audio/disco.wav\n",
        " create mode 100755 3/data/audio/flute.wav\n",
        " create mode 100755 3/data/audio/hiphop.wav\n",
        " create mode 100755 3/data/audio/jazz.wav\n",
        " create mode 100755 3/data/audio/metal.wav\n",
        " create mode 100755 3/data/audio/pop.wav\n",
        " create mode 100755 3/data/audio/reggae.wav\n",
        " create mode 100755 3/data/audio/rock.wav\n",
        " create mode 100755 3/data/audio/sine/sine_a.wav\n",
        " create mode 100755 3/data/audio/sine/sine_b.wav\n",
        " create mode 100755 3/data/audio/sine/sine_mix.wav\n",
        " create mode 100755 3/data/audio/sinea.wav\n",
        " create mode 100755 3/data/images/American.png\n",
        " create mode 100755 3/data/images/Fourier.jpg\n",
        " create mode 100755 3/data/images/archimedes.png\n",
        " create mode 100755 3/data/images/fft.gif\n",
        " create mode 100755 3/data/images/moonlanding.png\n",
        " create mode 100755 3/data/images/newton.png\n",
        " create mode 100644 4/.DS_Store\n",
        " create mode 100755 4/2013-2-4.ipynb\n",
        " create mode 100755 4/images/Godwin.jpg\n",
        " create mode 100755 4/images/TinTin.jpg\n",
        " create mode 100755 4/images/elephant.gif\n",
        " create mode 100755 4/images/elephant.jpg\n",
        " create mode 100755 4/images/japan.jpg\n",
        " create mode 100755 4/images/star.jpg\n",
        " create mode 100644 8/.DS_Store\n",
        " create mode 100644 8/.ipynb_checkpoints/2014-2-8-checkpoint.ipynb\n",
        " create mode 100644 8/2014-2-8.ipynb\n",
        " create mode 100755 8/images/neighbor2.png\n",
        " create mode 100755 8/images/numpyVec.png\n",
        " create mode 100755 8/lottery.ipynb\n"
       ]
      }
     ],
     "prompt_number": 22
    },
    {
     "cell_type": "code",
     "collapsed": false,
     "input": [
      "%%bash\n",
      "\n",
      "cd lecture\n",
      "git push -u origin master\n"
     ],
     "language": "python",
     "metadata": {},
     "outputs": [
      {
       "output_type": "stream",
       "stream": "stdout",
       "text": [
        "Branch master set up to track remote branch master from origin.\n"
       ]
      },
      {
       "output_type": "stream",
       "stream": "stderr",
       "text": [
        "To https://github.com/cchuang2009/math2014.git\n",
        "   93abafc..d7129ab  master -> master\n"
       ]
      }
     ],
     "prompt_number": 23
    },
    {
     "cell_type": "code",
     "collapsed": false,
     "input": [
      "%%bash\n",
      "\n",
      "cd lecture\n",
      "git status\n"
     ],
     "language": "python",
     "metadata": {},
     "outputs": [
      {
       "output_type": "stream",
       "stream": "stdout",
       "text": [
        "# On branch master\n",
        "# Untracked files:\n",
        "#   (use \"git add <file>...\" to include in what will be committed)\n",
        "#\n",
        "#\tfile1.txt\n",
        "nothing added to commit but untracked files present (use \"git add\" to track)\n"
       ]
      }
     ],
     "prompt_number": 9
    },
    {
     "cell_type": "code",
     "collapsed": false,
     "input": [
      "!git clone https://github.com/cchuang2009/math2014"
     ],
     "language": "python",
     "metadata": {},
     "outputs": [
      {
       "output_type": "stream",
       "stream": "stdout",
       "text": [
        "Cloning into 'math2014'...\r\n"
       ]
      },
      {
       "output_type": "stream",
       "stream": "stdout",
       "text": [
        "Username for 'https://github.com': "
       ]
      },
      {
       "output_type": "stream",
       "stream": "stdout",
       "text": [
        "^C\r\n"
       ]
      }
     ],
     "prompt_number": 14
    },
    {
     "cell_type": "markdown",
     "metadata": {},
     "source": [
      "#Note\n",
      "\n",
      "##Create a new repository on the command line\n",
      "\n",
      "    > touch README.md\n",
      "    > git init\n",
      "    > git add README.md\n",
      "    > git commit -m \"first commit\"\n",
      "    > git remote add origin https://github.com/cchuang2009/math2014.git\n",
      "    > git push -u origin master\n",
      "    \n",
      "## Push an existing repository from the command line\n",
      "\n",
      "    > git remote add origin https://github.com/cchuang2009/math2014.git\n",
      "    > git push -u origin master  > touch README.md\n",
      "    \n",
      "    \n"
     ]
    },
    {
     "cell_type": "code",
     "collapsed": false,
     "input": [],
     "language": "python",
     "metadata": {},
     "outputs": []
    }
   ],
   "metadata": {}
  }
 ]
}